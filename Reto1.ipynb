{
  "nbformat": 4,
  "nbformat_minor": 0,
  "metadata": {
    "colab": {
      "name": "Reto1.ipynb",
      "provenance": [],
      "collapsed_sections": [],
      "toc_visible": true,
      "authorship_tag": "ABX9TyMHGaPLS0ziTdmvz3TQ3nlk",
      "include_colab_link": true
    },
    "kernelspec": {
      "name": "python3",
      "display_name": "Python 3"
    },
    "language_info": {
      "name": "python"
    }
  },
  "cells": [
    {
      "cell_type": "markdown",
      "metadata": {
        "id": "view-in-github",
        "colab_type": "text"
      },
      "source": [
        "<a href=\"https://colab.research.google.com/github/Dyam96/Curso.Prep.Henry/blob/master/Reto1.ipynb\" target=\"_parent\"><img src=\"https://colab.research.google.com/assets/colab-badge.svg\" alt=\"Open In Colab\"/></a>"
      ]
    },
    {
      "cell_type": "code",
      "metadata": {
        "colab": {
          "base_uri": "https://localhost:8080/"
        },
        "id": "m3rJ_oZ8mUpe",
        "outputId": "734c49c2-cc16-4eb5-9146-41128bc1a91b"
      },
      "source": [
        "salario_base = float (1000000)\n",
        "print(salario_base)\n",
        "horas_extras = float (input())\n",
        "if horas_extras <=0:\n",
        "  print(\"0\")\n",
        "  \n",
        "extras =  ((salario_base/196*55/100)*horas_extras)\n",
        "print(round(extras,1))\n",
        "\n",
        "bonificacion = (salario_base*45/100)\n",
        "bonificaciones = int (input(1 or 0))\n",
        "if bonificaciones == 1:\n",
        "  print(bonificacion)\n",
        "else:\n",
        "  print(0)\n",
        "  \n",
        "salario_total = (salario_base+extras)\n",
        "if bonificaciones == 1:\n",
        "  print(round(salario_total+bonificacion,1))\n",
        "else:\n",
        "  print(round(salario_total,1))\n",
        "  \n",
        "plan_de_salud = (salario_total*3.5/100)\n",
        "if bonificaciones == 1:\n",
        "  print(round((salario_total+bonificacion)*3.5/100,1))\n",
        "else:\n",
        "  print(round(plan_de_salud,1))\n",
        "\n",
        "pension = (salario_total*4/100)\n",
        "if bonificaciones == 1:\n",
        "  print(round((salario_total+bonificacion)*4/100,1))\n",
        "else:\n",
        "  print(round(pension,1))\n",
        "\n",
        "caja_de_compensacion = (salario_total*1/100)\n",
        "if bonificaciones == 1:\n",
        "  print(round((salario_total+bonificacion)*1/100,1))\n",
        "else:\n",
        "  print(round(caja_de_compensacion,1))\n",
        "\n",
        "\n"
      ],
      "execution_count": 133,
      "outputs": [
        {
          "output_type": "stream",
          "text": [
            "1000000.0\n",
            "8\n",
            "22449.0\n",
            "11\n",
            "450000.0\n",
            "1472449.0\n",
            "51535.7\n",
            "58898.0\n",
            "14724.5\n"
          ],
          "name": "stdout"
        }
      ]
    }
  ]
}